{
  "nbformat": 4,
  "nbformat_minor": 0,
  "metadata": {
    "colab": {
      "provenance": [],
      "authorship_tag": "ABX9TyNvT/8TLzOA1mWaBHVVlxQn",
      "include_colab_link": true
    },
    "kernelspec": {
      "name": "python3",
      "display_name": "Python 3"
    },
    "language_info": {
      "name": "python"
    }
  },
  "cells": [
    {
      "cell_type": "markdown",
      "metadata": {
        "id": "view-in-github",
        "colab_type": "text"
      },
      "source": [
        "<a href=\"https://colab.research.google.com/github/JHW7/22_05_python_ch2/blob/main/chapter2_exe.ipynb\" target=\"_parent\"><img src=\"https://colab.research.google.com/assets/colab-badge.svg\" alt=\"Open In Colab\"/></a>"
      ]
    },
    {
      "cell_type": "code",
      "execution_count": null,
      "metadata": {
        "id": "xNvi4E3JPqpC"
      },
      "outputs": [],
      "source": []
    },
    {
      "cell_type": "markdown",
      "source": [
        "사용자에게 이름과 나이를 입력하게 한다. 사용자가 100살이 되는 연도를 화면에 출력 하는 프로그램을 작성하라."
      ],
      "metadata": {
        "id": "ibseNRN1Pz1t"
      }
    },
    {
      "cell_type": "code",
      "source": [
        "name=input(\"이름을 입력하시오.:\")       \n",
        "age = int(input(\"나이를 입력하시오.:\"))\n",
        "year = 2022 - age + 100\n",
        "print(name + \"씨는\" + str(year) + \"년에 100살입니다.\")"
      ],
      "metadata": {
        "colab": {
          "base_uri": "https://localhost:8080/"
        },
        "id": "xJQK_rv-P-q-",
        "outputId": "b52f55bd-13a4-4c4f-faae-a3ccfbe8aba2"
      },
      "execution_count": 1,
      "outputs": [
        {
          "output_type": "stream",
          "name": "stdout",
          "text": [
            "이름을 입력하시오.:장형욱\n",
            "나이를 입력하시오.:20\n",
            "장형욱씨는2102년에 100살입니다.\n"
          ]
        }
      ]
    },
    {
      "cell_type": "markdown",
      "source": [
        "사용자로부터 3개의 숫자를 받아서 평균을 계산하라."
      ],
      "metadata": {
        "id": "fE7gFLnDThDX"
      }
    },
    {
      "cell_type": "code",
      "source": [
        "n1 = int(input(\"첫번째 값을 입력하시오 : \"))\n",
        "n2 = int(input(\"두번째 값을 입력하시오 : \"))\n",
        "n3 = int(input(\"세번째 값을 입력하시오 : \"))\n",
        "aver = (n1 + n2 + n3) / 3\n",
        "sum = n1+ n2 + n3\n",
        "print(n1, n2, n3, \"합은\", str(sum) + \"이고\", \"평균은\", aver, \"입니다.\")"
      ],
      "metadata": {
        "colab": {
          "base_uri": "https://localhost:8080/"
        },
        "id": "Vz2xLP3ITnuY",
        "outputId": "80db8b70-8e81-46e0-8774-6f56a5948d21"
      },
      "execution_count": 6,
      "outputs": [
        {
          "output_type": "stream",
          "name": "stdout",
          "text": [
            "첫번째 값을 입력하시오 : 10\n",
            "두번째 값을 입력하시오 : 20\n",
            "세번째 값을 입력하시오 : 30\n",
            "10 20 30 합은 60이고 평균은 20.0 입니다.\n"
          ]
        }
      ]
    },
    {
      "cell_type": "markdown",
      "source": [
        "사용자로부터 반지름을 입력받아서 면적을 구하시오."
      ],
      "metadata": {
        "id": "CEYEY6iiV1Ik"
      }
    },
    {
      "cell_type": "code",
      "source": [
        "radius = int(input(\"반지름을 입력하시오. : \"))\n",
        "area = 3.141592 * radius * radius\n",
        "print(\"반지름이\", radius, \"인 원의 넓이는 =\", area, \"입니다.\")"
      ],
      "metadata": {
        "colab": {
          "base_uri": "https://localhost:8080/"
        },
        "id": "Edl3bQufV77u",
        "outputId": "4e0ca50e-02ff-4e81-c465-440bcb1bb1bc"
      },
      "execution_count": 10,
      "outputs": [
        {
          "output_type": "stream",
          "name": "stdout",
          "text": [
            "반지름을 입력하시오. : 10\n",
            "반지름이 10 인 원의 넓이는 = 314.1592 입니다.\n"
          ]
        }
      ]
    }
  ]
}